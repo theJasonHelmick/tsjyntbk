{
    "metadata": {
        "kernelspec": {
            "name": "powershell",
            "display_name": "PowerShell"
        },
        "language_info": {
            "name": "powershell",
            "codemirror_mode": "shell",
            "mimetype": "text/x-sh",
            "file_extension": ".ps1"
        }
    },
    "nbformat_minor": 2,
    "nbformat": 4,
    "cells": [
        {
            "cell_type": "markdown",
            "source": [
                "[![Video Placeholder](./placeholder.png)](https://youtu.be/6d0-8BbBvoM \"Title Test\")"
            ],
            "metadata": {
                "azdata_cell_guid": "c312a9b4-b057-452e-9916-faef0f1191de"
            }
        },
        {
            "cell_type": "markdown",
            "source": [
                "For this - see article - https://devblogs.microsoft.com/powershell/powershell-foreach-object-parallel-feature/"
            ],
            "metadata": {
                "azdata_cell_guid": "527c5d64-501e-4b33-bcd6-c2256aacd2b8"
            }
        },
        {
            "cell_type": "markdown",
            "source": [
                "# [wip]Title - Get more work done faster in PowerShell 7 with Parallelism"
            ],
            "metadata": {
                "azdata_cell_guid": "4f3ea6b9-fed1-48ab-8a0e-7df844a53103"
            }
        },
        {
            "cell_type": "markdown",
            "source": [
                "TODO - Intro Pragraph\n",
                "\n",
                "TODO - Use case - what can they use this for"
            ],
            "metadata": {
                "azdata_cell_guid": "430d8532-5f4a-4144-a517-7c9d0101cd20"
            }
        },
        {
            "cell_type": "markdown",
            "source": [
                "## What you need to follow along:\n",
                "\n",
                "To follow along and try the domonstrations for yourself, you will need PowerShell version 7.0 or above.  If you're on Windows, PowerShell 7 runs side-by-side with Windows PowerShell 5.1 without impacting your previos work. Get the latest [here!](aka.ms/Get-PowerShell)"
            ],
            "metadata": {
                "azdata_cell_guid": "bfec1be7-288d-44c8-a04e-34eabd05b997"
            }
        },
        {
            "cell_type": "markdown",
            "source": [
                "## Which foreach are we talking about?\n",
                "\n",
                "PowerShell has two methods of iterating objects that use the word \"foreach\". One is the **ForEach-Object** cmdlet for interactive and scripting, the other is the **Foreach** keyword that has benefits in scripting, but it doesn;t handle pipeline input. Our focus is the\n",
                "interactive and scripting cmdlet **ForEach-Object** that has the addition of parallelism in PowerShell 7.\n",
                "\n",
                "For more information about these and their differences, see;"
            ],
            "metadata": {
                "azdata_cell_guid": "a0c3ca8d-6bca-42f6-b5de-faacecd0d868"
            }
        },
        {
            "cell_type": "code",
            "source": [
                "Get-Help ForEach-Object -Full # This is the full help for ForEach-Object"
            ],
            "metadata": {
                "azdata_cell_guid": "893ed156-7a29-4e90-8ec2-a87a39b2c4b7"
            },
            "outputs": [],
            "execution_count": null
        },
        {
            "cell_type": "code",
            "source": [
                "Get-Help About_Foreach # This is the full help about the keyword Foreach"
            ],
            "metadata": {
                "azdata_cell_guid": "a39496b3-1950-4ce2-bca0-50cdd11a4350"
            },
            "outputs": [],
            "execution_count": null
        },
        {
            "cell_type": "markdown",
            "source": [
                "## Quick review before we start...\n",
                "\n",
                "TODO - text\n",
                "\n",
                "```powershell\n",
                "1..5 #\n",
                "1..5 | ForEach-Object -Process {$_}\n",
                "1..5 | ForEach-Object -Process {write-output \"This is number $_\"}\n",
                "```"
            ],
            "metadata": {
                "azdata_cell_guid": "09baf5e6-0038-46cc-9dbf-b47fb9dce84c"
            }
        },
        {
            "cell_type": "code",
            "source": [
                "1..5 | ForEach-Object -Process {write-output \"This is number $_\"}"
            ],
            "metadata": {
                "azdata_cell_guid": "b33e5b91-bfbc-41e3-8f57-ffabded35ce7"
            },
            "outputs": [],
            "execution_count": null
        },
        {
            "cell_type": "markdown",
            "source": [
                "TODO - Text - other ways you see this\n",
                "\n",
                "```powershell\n",
                "1..5 |  ForEach-Object {write-output \"This is number $_\"}\n",
                "1..5 |  ForEach {write-output \"This is number $_\"}\n",
                "1..5 | % {write-output \"This is number $_\"}\n",
                "```"
            ],
            "metadata": {
                "azdata_cell_guid": "e65cf030-51fb-4c2b-8afb-7b8228335020"
            }
        },
        {
            "cell_type": "markdown",
            "source": [
                "## Example (on Windows) Parallism to remote computers\n",
                "\n",
                "TODO-text ( I want to kill processes that ive identified as possible problems....there might be 1 or a hundred on each computer)\n",
                "\n",
                "```powershell\n",
                "notepad;notepad;notepad # On Windows I'm launching several notepad processes - these will act as the offedning processes.\n",
                "Get-Process -name note* # I would like to get a list of the processes notepad on the local machine as a test.\n",
                "```"
            ],
            "metadata": {
                "azdata_cell_guid": "b87aef24-325d-4663-9c7e-b0cd1017db6f"
            }
        },
        {
            "cell_type": "code",
            "source": [
                "notepad;notepad;notepad # On windows, this launches notepad 3 times\n",
                "Get-Process -name note*"
            ],
            "metadata": {
                "azdata_cell_guid": "a47165a0-eafa-4d4e-bfb3-1b62806ec2a5"
            },
            "outputs": [],
            "execution_count": null
        },
        {
            "cell_type": "markdown",
            "source": [
                "TODO - text - use Get-Member to determine the method or property you want to work with.\n",
                "\n",
                "```powershell\n",
                "Get-Process -name note* | Get-Member #this provides a list of methods and properties. I'm looking for something that would kill the process.\n",
                "```"
            ],
            "metadata": {
                "azdata_cell_guid": "526595ae-9174-4ac5-b60e-a9c973336219"
            }
        },
        {
            "cell_type": "code",
            "source": [
                "Get-Process -name note* | Get-Member # Is there a method that might stop or kill a running process?"
            ],
            "metadata": {
                "azdata_cell_guid": "3670e6f9-ca95-47c1-914c-7935e0e62c30"
            },
            "outputs": [],
            "execution_count": null
        },
        {
            "cell_type": "markdown",
            "source": [
                "To complete stop or kill all process beginning with \"note*\" woudl like this:\n",
                "\n",
                "```powershell\n",
                "Get-Process -name note* | ForEach-Object {$_.kill}\n",
                "```"
            ],
            "metadata": {
                "azdata_cell_guid": "c59b1ba6-9e44-4258-bb8e-3644a46010b0"
            }
        },
        {
            "cell_type": "markdown",
            "source": [
                "## Using the power of Remoting for parallelism\n",
                "\n",
                "TODO - text\n",
                "\n",
                "```powershell\n",
                "Invoke-Command -ComputerName comp1, comp2, comp3 {Get-Process -name note* | ForEach-Object {$_.kill}}\n",
                "```"
            ],
            "metadata": {
                "azdata_cell_guid": "025c7672-768f-4cf5-b316-8f50ac92f174"
            }
        },
        {
            "cell_type": "code",
            "source": [
                "Get-Process -name note* | ForEach-Object {$_.kill}"
            ],
            "metadata": {
                "azdata_cell_guid": "752227db-1899-4bd4-ac19-5cd1aee26e65"
            },
            "outputs": [],
            "execution_count": null
        },
        {
            "cell_type": "markdown",
            "source": [
                "## Using the new parameter -Parallel for local performance improvements\n",
                "\n",
                "TODO - text - not everything benefits form this.\n",
                "\n",
                ""
            ],
            "metadata": {
                "azdata_cell_guid": "25d9d5c6-2482-453d-b163-8c28b77ee180"
            }
        },
        {
            "cell_type": "markdown",
            "source": [
                "## Moving large files\n",
                "\n",
                "```powershell\n",
                "# On Windows, without the parameter -Parallel\n",
                "function Test-Copy {\n",
                "\n",
                "    Measure-Command -Expression {\n",
                "        1..5 | foreach-object -process {\n",
                "            new-item -Path \"$Home\\dump\\Dir_$_\" -ItemType directory\n",
                "            Copy-Item -Path \"$Home\\Demo\\Source\\*.*\" -Destination \"$Home\\dump\\Dir_$_\\\" -Force\n",
                "        }\n",
                "    } | Select-Object -Property Minutes, Seconds\n",
                "}\n",
                "\n",
                "```\n",
                "\n",
                "```powershell\n",
                "# On Windows, with the parameter -Parallel\n",
                "function Test-Copy {\n",
                "\n",
                "    Measure-Command -Expression {\n",
                "        1..5 | foreach-object -parallel {\n",
                "            new-item -Path \"$Home\\dump\\Dir_$_\" -ItemType directory\n",
                "            Copy-Item -Path \"$Home\\Demo\\Source\\*.*\" -Destination \"$Home\\dump\\Dir_$_\\\" -Force\n",
                "        }\n",
                "    } | Select-Object -Property Minutes, Seconds\n",
                "}\n",
                "```\n",
                "\n",
                "TODO - Text to demo ---"
            ],
            "metadata": {
                "azdata_cell_guid": "7794c270-9a88-4dba-b966-84956cb8fff8"
            }
        },
        {
            "cell_type": "code",
            "source": [
                "Function Test-Copy {\n",
                "\n",
                "    Measure-Command -Expression {\n",
                "        1..5 | foreach-object -process {\n",
                "            new-item -Path \"$Home\\dump\\Dir_$_\" -ItemType directory\n",
                "            Copy-Item -Path \"$Home\\Demo\\Source\\*.*\" -Destination \"$Home\\dump\\Dir_$_\\\" -Force\n",
                "        }\n",
                "    } | Select-Object -Property Minutes, Seconds\n",
                ""
            ],
            "metadata": {
                "azdata_cell_guid": "00abcd1b-8448-4d8e-8b1f-27db32227268"
            },
            "outputs": [],
            "execution_count": null
        },
        {
            "cell_type": "code",
            "source": [
                "Function Test-Copy {\n",
                "\n",
                "    Measure-Command -Expression {\n",
                "        1..5 | foreach-object -parallel {\n",
                "            new-item -Path \"$Home\\dump\\Dir_$_\" -ItemType directory\n",
                "            Copy-Item -Path \"$Home\\Demo\\Source\\*.*\" -Destination \"$Home\\dump\\Dir_$_\\\" -Force\n",
                "        }\n",
                "    } | Select-Object -Property Minutes, Seconds\n",
                ""
            ],
            "metadata": {
                "azdata_cell_guid": "89139855-00ef-4ff1-89d4-4803de03baf1"
            },
            "outputs": [],
            "execution_count": null
        },
        {
            "cell_type": "markdown",
            "source": [
                "## Log analysis\n",
                "\n",
                "TODO - text\n",
                "\n",
                "```powershell\n",
                "Function Test-Winlog {\n",
                "    $logs = @(\n",
                "        'System',\n",
                "        'Application',\n",
                "        'PowerShellCore/Operational',\n",
                "        'Windows PowerShell',\n",
                "        'Microsoft-Windows-PowerShell/Operational'\n",
                "    )\n",
                "    Measure-Command -Expression {\n",
                "    $Logs | foreach-object -parallel {   # <----   Change from Process to Parallel - can set Throttle limit\n",
                "        Get-Winevent -logname $_ |\n",
                "            Where-Object -FilterScript {$_.LevelDisplayName -eq 'Error' -or $_.OpCodeDisplayName -eq 'Download'} |\n",
                "            Sort-Object -Property TimeCreated -Descending |\n",
                "            Select-Object -Property TimeCreated, ID, @{name='Note';Expression={$_.Message.Substring(0,60)}} |\n",
                "            Add-Content -path c:\\Demo\\Log.Log -Force\n",
                "    }\n",
                "    } | Select-Object -Property Minutes, Seconds\n",
                "}\n",
                "\n",
                "```"
            ],
            "metadata": {
                "azdata_cell_guid": "35f338ac-0999-427b-9aad-633704da14fd"
            }
        },
        {
            "cell_type": "code",
            "source": [
                "Function Test-Winlog {\n",
                "    $logs = @(\n",
                "        'System',\n",
                "        'Application',\n",
                "        'PowerShellCore/Operational',\n",
                "        'Windows PowerShell',\n",
                "        'Microsoft-Windows-PowerShell/Operational'\n",
                "    )\n",
                "    Measure-Command -Expression {\n",
                "    $Logs | foreach-object -parallel {   # <----   Change from Process to Parallel - can set Throttle limit\n",
                "        Get-Winevent -logname $_ |\n",
                "            Where-Object -FilterScript {$_.LevelDisplayName -eq 'Error' -or $_.OpCodeDisplayName -eq 'Download'} |\n",
                "            Sort-Object -Property TimeCreated -Descending |\n",
                "            Select-Object -Property TimeCreated, ID, @{name='Note';Expression={$_.Message.Substring(0,60)}} |\n",
                "            Add-Content -path c:\\Demo\\Log.Log -Force\n",
                "    }\n",
                "    } | Select-Object -Property Minutes, Seconds\n",
                "}\n",
                ""
            ],
            "metadata": {
                "azdata_cell_guid": "234a6586-82b2-4664-9867-34aa98f580ad"
            },
            "outputs": [],
            "execution_count": null
        },
        {
            "cell_type": "markdown",
            "source": [
                "## Note about throttling\n",
                "\n",
                "TODO - text\n",
                "TODO - example\n",
                ""
            ],
            "metadata": {
                "azdata_cell_guid": "fb87e860-6e20-4efc-99fc-7f2576c1b6c8"
            }
        },
        {
            "cell_type": "markdown",
            "source": [
                "## You try! "
            ],
            "metadata": {
                "azdata_cell_guid": "b9717104-ec63-4c61-98e8-f47f972a9c50"
            }
        },
        {
            "cell_type": "markdown",
            "source": [
                "1. Take a moment and try the following:\n",
                ""
            ],
            "metadata": {
                "azdata_cell_guid": "0d96608a-c3c2-476c-8620-f5e508a8a863"
            }
        },
        {
            "cell_type": "code",
            "source": [
                "# Clear this comment and try it here now!"
            ],
            "metadata": {
                "azdata_cell_guid": "6d823f04-e905-46ae-b4da-716731f797df"
            },
            "outputs": [],
            "execution_count": null
        }
    ]
}