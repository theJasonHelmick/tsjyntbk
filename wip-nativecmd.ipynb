{
    "metadata": {
        "kernelspec": {
            "name": "powershell",
            "display_name": "PowerShell"
        },
        "language_info": {
            "name": "powershell",
            "codemirror_mode": "shell",
            "mimetype": "text/x-sh",
            "file_extension": ".ps1"
        }
    },
    "nbformat_minor": 2,
    "nbformat": 4,
    "cells": [
        {
            "cell_type": "markdown",
            "source": [
                "[![Video Placeholder](./placeholder.png)](https://youtu.be/6d0-8BbBvoM \"Title Test\")\n",
                ""
            ],
            "metadata": {
                "azdata_cell_guid": "fd135dd0-1784-4cab-8158-4306576c9c80"
            }
        },
        {
            "cell_type": "markdown",
            "source": [
                "# Making native commands more like PowerShell cmdlets"
            ],
            "metadata": {
                "azdata_cell_guid": "aba9e65d-2b9b-4013-bce6-c8fafd4e922a"
            }
        },
        {
            "cell_type": "markdown",
            "source": [
                "PowerShell cmdlets are light-weight commands that can be assembled together to perform powerful\n",
                "management operations. To reduce the overhead of learning a brand new command each time a new one\n",
                "ships, cmdlets follow a very specific design pattern to reduce the amount of new information that a\n",
                "user must learn before using the cmdlet.\n",
                "\n",
                "In recent years, the rapid introduction of additional complex native commands, such as Kubectl, offer extensive functionality but lack the ease of use that PowerShell users have come to expect. There are reimplementation methods that module developers can pursue to solve this, but often the benefit is outweighed by the cost of development and the inevitable updates when the original native command is updated.\n",
                "\n",
                "This is an inside look at work we are thinking about to make native commands more PowerShell-like while reducing the cost of ownership. We value your feedback during this early stage of development."
            ],
            "metadata": {
                "azdata_cell_guid": "b73fa614-a502-44f9-9b50-c7e64e27cf67"
            }
        },
        {
            "cell_type": "markdown",
            "source": [
                "## What you need to get started"
            ],
            "metadata": {
                "azdata_cell_guid": "5e351cde-4f9e-4df4-ad64-d779a0a2967f"
            }
        },
        {
            "cell_type": "markdown",
            "source": [
                "1. If you haven't seen Jim Truher's blog detailing this work and wish to know more:\n",
                "[Native Command Blog](http://example.com \"Title\")\n",
                "\n",
                "2. If you want to try this demonstration, you will need Kubernetes. If you already have a\n",
                "   safe-for-experiment implementation, you are all set. We are using Kubernetes on Docker and it can\n",
                "   be downloaded from here:[Kubernetes on Docker](https://www.docker.com/products/kubernetes)\n",
                "\n",
                "3. If you download Docker, you will need to enable Kubernetes on Docker. We have those steps, and\n",
                "   optional Fast-safe configuration instructions here: [Additional Configuration](https://)\n",
                "\n",
                "4. Download the latest version of the module Microsoft.PowerShell.KubeCtl from:\n",
                "   [Get the module](https://) and place in your module folder.\n",
                "\n",
                "5. To work with the Kubectl cmdlets, import the Microsoft.PowerShell.KubeCtl Module.\n",
                "\n",
                "```powershell\n",
                "Import-Module Microsoft.PowerShell.KubeCtl\n",
                "```\n",
                "\n",
                "To import the module automatically when PowerShell starts, add the Import-Module statement to your\n",
                "PowerShell Profile."
            ],
            "metadata": {
                "azdata_cell_guid": "9fb6074d-31df-4242-8abb-cd952fd050c0"
            }
        },
        {
            "cell_type": "code",
            "source": [
                "Import-Module Microsoft.PowerShell.KubeCtl #Try It!"
            ],
            "metadata": {
                "azdata_cell_guid": "2ccdee4c-3006-45f0-82cd-1770f743b035"
            },
            "outputs": [
                {
                    "name": "stdout",
                    "text": "",
                    "output_type": "stream"
                }
            ],
            "execution_count": 1
        },
        {
            "cell_type": "markdown",
            "source": [
                "**Note** - you must run the above Import-Module command when you open this notebook to load the KubeCtl cmdlets. Without this module loaded, example commands below will not work."
            ],
            "metadata": {
                "azdata_cell_guid": "93a51e30-cf9e-46f4-897a-6ffe6f186347"
            }
        },
        {
            "cell_type": "markdown",
            "source": [
                "## Where to leave comments"
            ],
            "metadata": {
                "azdata_cell_guid": "dad5fdde-8458-436d-b288-c5ce203a816f"
            }
        },
        {
            "cell_type": "markdown",
            "source": [
                "We appreciate and need your feedback. Our primary question is - is this framework for enabling native commands the right direction? Are there other ideas we should be exploring?  Please leave us feedback here: [Feedback Link](http://)"
            ],
            "metadata": {
                "azdata_cell_guid": "863a6d2c-53eb-4d3b-ad28-093aec54cddf"
            }
        },
        {
            "cell_type": "markdown",
            "source": [
                "## Why are we talking about this?\n",
                "\n",
                " Native commands, for the most part, just work in PowerShell. Many of those commands are complex and take time to learn. If you want to have the familiar, comfortable PowerShell experience, there are only a few options that are available to us.\n",
                "\n",
                " - You can re-implement the tool in managed code or script\n",
                " - You can call web based apis. SWAGGER provides a very easy way to do this\n",
                "   - <https://github.com/Azure/autorest> is one example\n",
                " - You can wrap the native application in a powershell script\n",
                " - I can just use the tool as is without change\n",
                "\n",
                " We are exploring a **new** way of handling native commands to make them more like PowerShell cmdlets without some of the drawbacks.  Note - the benefits and drawbacks, plus the details of our proposal is discussed shortly in Part 2. \n",
                " \n",
                " First, is it worth making native commands more PowerShell like?  "
            ],
            "metadata": {
                "azdata_cell_guid": "ccbdbdc9-67ff-448c-bde3-145ee9e89d89"
            }
        },
        {
            "cell_type": "markdown",
            "source": [
                "## Why would you want native commands more like PowerShell?"
            ],
            "metadata": {
                "azdata_cell_guid": "cdc2f171-35b3-4e5d-9771-51a97d539016"
            }
        },
        {
            "cell_type": "markdown",
            "source": [
                "Kubectl is a rich native command that offers extensive help. Once you understand the pattern of usage, finding documentation and examples is fairly simple. Run the **KubeCtl** command to start exploring."
            ],
            "metadata": {
                "azdata_cell_guid": "3edd97b6-6878-43b6-97f3-65f3fb3bd84e"
            }
        },
        {
            "cell_type": "code",
            "source": [
                "kubectl "
            ],
            "metadata": {
                "azdata_cell_guid": "974e22d3-2a7b-4145-b546-ddf749682eda"
            },
            "outputs": [],
            "execution_count": null
        },
        {
            "cell_type": "markdown",
            "source": [
                "Experienced PowerShell users benefit from KubeCtl being more like PowerShell cmdelets. As an example, To list all the available cmdlets for the KubeCtl module, a PowerShell user may try: **Get-Command -Module Microsoft.PowerShell.KubeCtl**"
            ],
            "metadata": {
                "azdata_cell_guid": "e2380e91-3c6a-45e5-9085-6d5ba98afffd"
            }
        },
        {
            "cell_type": "code",
            "source": [
                "Get-Command -Module Microsoft.PowerShell.KubeCtl"
            ],
            "metadata": {
                "azdata_cell_guid": "69ccb642-1d91-4266-ba61-5129694ebb7d"
            },
            "outputs": [],
            "execution_count": null
        },
        {
            "cell_type": "markdown",
            "source": [
                "Sinilarly, A PowerShell user attemping to discover cmdlets for retreiving information from Kubernetes might try:\n",
                "\n",
                "```powershell\n",
                "Get-Kube<tab>\n",
                "```\n",
                "\n",
                "**Note** - The tab key triggers PowerShell's TabExpansion.  This will provide all the Get cmdlets and thier respective nouns."
            ],
            "metadata": {
                "azdata_cell_guid": "f5e71b4d-114f-465a-8402-aaecdce911d6"
            }
        },
        {
            "cell_type": "markdown",
            "source": [
                "### PowerShell users expect to use what they know - PowerShell"
            ],
            "metadata": {
                "azdata_cell_guid": "bf29bdd8-05d6-4c58-95f2-526682945881"
            }
        },
        {
            "cell_type": "markdown",
            "source": [
                "KubeCtl can display a list of pods\n",
                "\n",
                "```powershell\n",
                "kubectl get pods\n",
                "```\n",
                ""
            ],
            "metadata": {
                "azdata_cell_guid": "99ab2748-326e-474b-889b-46559b132496"
            }
        },
        {
            "cell_type": "code",
            "source": [
                "kubectl get pods"
            ],
            "metadata": {
                "azdata_cell_guid": "95a3882d-319d-4a33-bbad-ccc5e9b267a3"
            },
            "outputs": [],
            "execution_count": null
        },
        {
            "cell_type": "markdown",
            "source": [
                "Note - nothing is listed in my example because I haven't created any pods - but there are pods that exist, you just don;t know about them unless you know how to use the commmmand.\n",
                "\n",
                "```powershell\n",
                "kubectl get pods --all-namespaces\n",
                "```"
            ],
            "metadata": {
                "azdata_cell_guid": "1a6254ec-81dd-44e1-a68f-ed84c1080cb3"
            }
        },
        {
            "cell_type": "code",
            "source": [
                "kubectl get pods --all-namespaces"
            ],
            "metadata": {
                "azdata_cell_guid": "6dbef70b-cff7-4d0d-8fd3-a406d1f6bc27"
            },
            "outputs": [],
            "execution_count": null
        },
        {
            "cell_type": "markdown",
            "source": [
                "PoewrShell users expect Get cmdlets to return all results unless filtered. A PowerShell user might try **Get-KubePod**\n",
                ""
            ],
            "metadata": {
                "azdata_cell_guid": "7a0c14a0-def8-42e1-8240-9e4d8ecfe24b"
            }
        },
        {
            "cell_type": "code",
            "source": [
                "Get-KubePod"
            ],
            "metadata": {
                "azdata_cell_guid": "d4ba0650-5470-446f-a6a1-6c3bb9536914"
            },
            "outputs": [],
            "execution_count": null
        },
        {
            "cell_type": "markdown",
            "source": [
                "KubeCtl can list pods by namespace: **kubectl get pods -n kube-system**"
            ],
            "metadata": {
                "azdata_cell_guid": "3eaf53a8-e586-477e-aa73-b95da3008000"
            }
        },
        {
            "cell_type": "code",
            "source": [
                "kubectl get pods -n kube-system"
            ],
            "metadata": {
                "azdata_cell_guid": "0fe55016-e6e4-41ab-83b2-04a20f1df63b"
            },
            "outputs": [],
            "execution_count": null
        },
        {
            "cell_type": "markdown",
            "source": [
                "PowerShell users should be able to filter results using the common PowerSehll practices they already know. In this case, If I wanted only the kube-system pods, I could filter the results using a **Where-Object**."
            ],
            "metadata": {
                "azdata_cell_guid": "aa673a78-5742-474d-b0f8-b7789e17de05"
            }
        },
        {
            "cell_type": "code",
            "source": [
                "get-kubepod | where namespace -eq 'kube-system'"
            ],
            "metadata": {
                "azdata_cell_guid": "b7ac8cc8-4825-4f7d-8e93-088e072ac862"
            },
            "outputs": [],
            "execution_count": null
        },
        {
            "cell_type": "markdown",
            "source": [
                "PoweShell continues to help me get the information I need, even if I don;t fully understand the native the command or the underlying technology. Here, I was trying to get a list of pods sorted by restart counts. After seraching the web, I started to try this:\n",
                "\n",
                "```powershell\n",
                "kubectl get pods --all-namespaces --sort-by=.status.containerStatuses[0].restartcount\n",
                "```\n",
                "I didn't understand the command and wasn't getting the results I desired, so I switch to the trusted PowerShell knowledge I already know.\n",
                "```powershell\n",
                "Get-KubePod | Get-Member\n",
                "# This lists the properties of the Pod object - yup - everything is an object!\n",
                "# I noticed the object Restarts - the rest was easy\n",
                "Get-KubePod | Sort-Object -Property Restarts\n",
                "# I wanted the restarts to be displayed at the top of the list, so I changed the sort\n",
                "Get-KubePod | Sort-Object -Property Restarts -Descending\n",
                "```\n",
                "\n",
                ""
            ],
            "metadata": {
                "azdata_cell_guid": "c8a94419-395c-4b86-96ba-5dd801ca7fcd"
            }
        },
        {
            "cell_type": "code",
            "source": [
                "Get-KubePod | Sort-Object -Property Restarts -Descending"
            ],
            "metadata": {
                "azdata_cell_guid": "12fabaa1-6dc5-43aa-b98d-a525fe4cb6f5"
            },
            "outputs": [],
            "execution_count": null
        },
        {
            "cell_type": "markdown",
            "source": [
                "**The point - Native commands, like KubeCtl, are gaining in popularity and complexity making it more challenging to learn and adopt important technologies. By bringing these native commands into the PowerShell Ecosystem, PowerShell users can take the knowledge they already have and imediatly start to be successfull and moving the business forward.** "
            ],
            "metadata": {
                "azdata_cell_guid": "c91e7589-afa3-4879-8ded-78d51aae4c87"
            }
        },
        {
            "cell_type": "markdown",
            "source": [
                "## PART 2"
            ],
            "metadata": {
                "azdata_cell_guid": "813b1820-e735-4e92-ac55-e4b3f15cb50a"
            }
        },
        {
            "cell_type": "markdown",
            "source": [
                "_________________"
            ],
            "metadata": {
                "azdata_cell_guid": "07912454-9069-469c-8ed2-64f800f5801f"
            }
        },
        {
            "cell_type": "markdown",
            "source": [
                "## Problems of functionality coverage when using PowerShell\n",
                "\n",
                "### Solution Options\n",
                "\n",
                " To achieve coverage for tools that participate fully in the PowerShell ecosystem, only a few options exist:\n",
                "\n",
                " - You can re-implement the tool in managed code or script\n",
                " - You can call web based apis. SWAGGER provides a very easy way to do this\n",
                "   - <https://github.com/Azure/autorest> is one example\n",
                " - You can wrap the native application in a powershell script\n",
                " "
            ],
            "metadata": {
                "azdata_cell_guid": "93045b00-ece8-4bbf-b08f-d1f32575c73d"
            }
        },
        {
            "cell_type": "markdown",
            "source": [
                "## Reimplementation\n",
                "\n",
                " There a many benefits in a complete rewrite of a command:\n",
                "\n",
                " - The expression of behavior can be made more \"native\" to the new environment\n",
                " - Performance issues can be addressed\n",
                " - New code means that new technologies can be used advantageously\n",
                "\n",
                " ### Issues with Reimplementations\n",
                "\n",
                " The biggest issue with reimplementation is probably the amount of work that is needed to achieve behavior expressed in the original.\n",
                " This is especially the case if the reimplementor is not intimately familiar with the workings of the tool.\n",
                "\n",
                " Another issue with reimplementation is that you need to continue to track changes in the original code.\n",
                " This can be a challenge as depending on the activity and updates in the tool, wholescale changes can occur that then need to be reimplemented,\n",
                " or the reimplementation will be out of date.\n",
                " Worse, if the the command is the client side of a client/server app, changes in the server may negatively effect the reimplementation.\n",
                "\n",
                " "
            ],
            "metadata": {
                "azdata_cell_guid": "bfdb5b60-de3a-410f-bd50-4fba5f3f561f"
            }
        },
        {
            "cell_type": "markdown",
            "source": [
                "\n",
                " ## API wrapping\n",
                "\n",
                " Many native apps use a REST endpoint to retrieve data.\n",
                " These can be used to interact with the data end point, retrieve data from it and then present it to the user.\n",
                " \n",
                " ### Issues with API wrapping\n",
                " The most impactful issues with this approach are about authentication and complexity.\n",
                " Also, simple API wrapping generally results in a command that is _developer_ rather than _administrator_ focused.\n",
                " There is quite a bit of logic wrapped up in a command to avoid just calling the API."
            ],
            "metadata": {
                "azdata_cell_guid": "ba9241b6-803f-40ad-84ad-44f92a507144"
            }
        },
        {
            "cell_type": "markdown",
            "source": [
                "## Native Application Wrapping\n",
                "\n",
                " Because it is possible to call native applications easily from within PowerShell it is possible to write a script that provides a more PowerShell-like experience.\n",
                " It can provide parameter handling such as prompting for mandatory parameters and tab-completion for parameter values.\n",
                " It can take the application output and use the text output into objects so it can take advantage of all the post processing tools such as `Sort-Object`, `Where-Object`, etc.\n",
                "\n",
                " \n",
                " ### Issues with native application wrapping\n",
                "\n",
                " The issues are roughly the same as above, there is a certain amount of programming that is needed to call the application.\n",
                " There is some programming needed to convert the text output to objects so they can participate in the PowerShell pipelines.\n",
                " \n",
                " "
            ],
            "metadata": {
                "azdata_cell_guid": "89153902-5132-4827-ae25-996803383813"
            }
        },
        {
            "cell_type": "markdown",
            "source": [
                "__________"
            ],
            "metadata": {
                "azdata_cell_guid": "8fb8a002-d68a-4aac-aa90-6433d7f0c86a"
            }
        },
        {
            "cell_type": "markdown",
            "source": [
                "## Is there a better way?\n",
                "\n",
                " It may be possible to create a framework that inspects the help of the application and _automatically_ create the code that calls the underlying application.\n",
                " This framework can also handle the output mapping to an object more suitable for the PowerShell environment."
            ],
            "metadata": {
                "azdata_cell_guid": "d9d799f1-abc6-4952-b8fc-fd36dc91e201"
            }
        },
        {
            "cell_type": "markdown",
            "source": [
                "## First Experiment - Microsoft.PowerShell.Kubectl Module\n",
                "\n",
                "There were some problems that I wanted to solve with this first experiment\n",
                "\n",
                " - wrap `kubectl api-resources` in a function\n",
                "   - automatically create object output from `kubectl api-resources`\n",
                " - Auto-generate functions for each resource that could be retrieved (only resource get for now)\n",
                "   - only support `name` as a parameter\n",
                " - Auto-generate the conversion of output to objects to look similar to the usual `kubectl` output"
            ],
            "metadata": {
                "azdata_cell_guid": "114759e3-6ba3-4a88-86ff-81ea01af4cf0"
            }
        },
        {
            "cell_type": "markdown",
            "source": [
                "## Second Experiment - Module KubectlHelpParser\n",
                "\n",
                " I wanted to see if I could read any help content from `kubectl` that would enable me to auto-generate a complete\n",
                " proxy to the `kubectl` command that included general parameters, command specific parameters, and help.\n",
                " It turns out that `kubectl` help is regular enough where this is quite possible.\n",
                ""
            ],
            "metadata": {
                "azdata_cell_guid": "098782b5-1eb7-4bf4-afe4-d02711780ba9"
            }
        },
        {
            "cell_type": "markdown",
            "source": [
                "## Call To Action\n",
                "\n",
                " First, I'm really interested if having a framework that can autogenerate functions that wrap a native executable is useful? The obvious response might be \"of course\", but how much of a solution is really needed to provide value?\n",
                "\n",
                " Second, I would _really_ like to know if you would like us to investigate _specific_ tools for this sort of treatment.\n",
                " If it is possible to make this a generic framework, I would love to have more examples of tools which would be beneficial\n",
                " to you and test our ability to handle.\n",
                "\n",
                " ## Please provide feedback!\n",
                "\n",
                " Here is the [link for feedback](http://TODO)"
            ],
            "metadata": {
                "azdata_cell_guid": "c6b5d7f6-f13e-425d-9c14-745f38c98d05"
            }
        }
    ]
}