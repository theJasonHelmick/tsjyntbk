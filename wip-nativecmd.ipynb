{
    "metadata": {
        "kernelspec": {
            "name": "powershell",
            "display_name": "PowerShell"
        },
        "language_info": {
            "name": "powershell",
            "codemirror_mode": "shell",
            "mimetype": "text/x-sh",
            "file_extension": ".ps1"
        }
    },
    "nbformat_minor": 2,
    "nbformat": 4,
    "cells": [
        {
            "cell_type": "markdown",
            "source": [
                "[![Video Placeholder](./placeholder.png)](https://youtu.be/6d0-8BbBvoM \"Title Test\")\n",
                ""
            ],
            "metadata": {
                "azdata_cell_guid": "fd135dd0-1784-4cab-8158-4306576c9c80"
            }
        },
        {
            "cell_type": "markdown",
            "source": [
                "# Making native commands more like PowerShell cmdlets"
            ],
            "metadata": {
                "azdata_cell_guid": "aba9e65d-2b9b-4013-bce6-c8fafd4e922a"
            }
        },
        {
            "cell_type": "markdown",
            "source": [
                "PowerShell cmdlets are light-weight commands that can be assembled together to perform powerful\n",
                "management operations. To reduce the overhead of learning a brand new command each time a new one\n",
                "ships, cmdlets follow a very specific design pattern to reduce the amount of new information that a\n",
                "user must learn before using the cmdlet.\n",
                "\n",
                "In recent years, the rapid introduction of additional complex native commands, such as Kubectl, offer extensive functionality but lack the ease of use that PowerShell users have come to expect. There are reimplementation methods that module developers can pursue to solve this, but often the benefit is outweighed by the cost of development and the inevitable updates when the original native command is updated.\n",
                "\n",
                "This is an inside look at work we are thinking about to make native commands more PowerShell-like while reducing the cost of ownership. We value your feedback during this early stage of development."
            ],
            "metadata": {
                "azdata_cell_guid": "b73fa614-a502-44f9-9b50-c7e64e27cf67"
            }
        },
        {
            "cell_type": "markdown",
            "source": [
                "## What you need to get started"
            ],
            "metadata": {
                "azdata_cell_guid": "5e351cde-4f9e-4df4-ad64-d779a0a2967f"
            }
        },
        {
            "cell_type": "markdown",
            "source": [
                "1. If you haven't seen Jim Truher's blog detailing this work and wish to know more:\n",
                "[Native Command Blog](http://example.com \"Title\")\n",
                "\n",
                "2. If you want to try this demonstration, you will need Kubernetes. If you already have a\n",
                "   safe-for-experiment implementation, you are all set. We are using Kubernetes on Docker and it can\n",
                "   be downloaded from here:[Kubernetes on Docker](https://www.docker.com/products/kubernetes)\n",
                "\n",
                "3. If you download Docker, you will need to enable Kubernetes on Docker. We have those steps, and\n",
                "   optional Fast-safe configuration instructions here: [Additional Configuration](https://)\n",
                "\n",
                "4. Download the latest version of the module Microsoft.PowerShell.KubeCtl from:\n",
                "   [Get the module](https://) and place in your module folder.\n",
                "\n",
                "5. To work with the Kubectl cmdlets, import the Microsoft.PowerShell.KubeCtl Module.\n",
                "\n",
                "```powershell\n",
                "Import-Module Microsoft.PowerShell.KubeCtl\n",
                "```\n",
                "\n",
                "To import the module automatically when PowerShell starts, add the Import-Module statement to your\n",
                "PowerShell Profile."
            ],
            "metadata": {
                "azdata_cell_guid": "9fb6074d-31df-4242-8abb-cd952fd050c0"
            }
        },
        {
            "cell_type": "code",
            "source": [
                "Import-Module Microsoft.PowerShell.KubeCtl #Try It!"
            ],
            "metadata": {
                "azdata_cell_guid": "2ccdee4c-3006-45f0-82cd-1770f743b035"
            },
            "outputs": [
                {
                    "output_type": "stream",
                    "name": "stdout",
                    "text": ""
                }
            ],
            "execution_count": 4
        },
        {
            "cell_type": "markdown",
            "source": [
                "**Note** - you must run the above Import-Module command when you open this notebook to load the KubeCtl cmdlets. Without this module loaded, example commands below will not work."
            ],
            "metadata": {
                "azdata_cell_guid": "93a51e30-cf9e-46f4-897a-6ffe6f186347"
            }
        },
        {
            "cell_type": "markdown",
            "source": [
                "## Where to leave comments"
            ],
            "metadata": {
                "azdata_cell_guid": "dad5fdde-8458-436d-b288-c5ce203a816f"
            }
        },
        {
            "cell_type": "markdown",
            "source": [
                "We appreciate and need your feedback. Our primary question is - is this framework for enabling native commands the right direction? Are there other ideas we should be exploring?  Please leave us feedback here: [Feedback Link](http://)"
            ],
            "metadata": {
                "azdata_cell_guid": "863a6d2c-53eb-4d3b-ad28-093aec54cddf"
            }
        },
        {
            "cell_type": "markdown",
            "source": [
                "## Why would you want native commands more like PowerShell?"
            ],
            "metadata": {
                "azdata_cell_guid": "cdc2f171-35b3-4e5d-9771-51a97d539016"
            }
        },
        {
            "cell_type": "markdown",
            "source": [
                "Kubectl is a rich native command that offers extensive help. Once you understand the pattern of usage, finding documentation and examples is fairly simple. Run the **KubeCtl** command to start exploring."
            ],
            "metadata": {
                "azdata_cell_guid": "3edd97b6-6878-43b6-97f3-65f3fb3bd84e"
            }
        },
        {
            "cell_type": "code",
            "source": [
                "kubectl "
            ],
            "metadata": {
                "azdata_cell_guid": "974e22d3-2a7b-4145-b546-ddf749682eda"
            },
            "outputs": [],
            "execution_count": null
        },
        {
            "cell_type": "markdown",
            "source": [
                "Experienced PowerShell users benefit from KubeCtl being more like PowerShell cmdelets. As an example, To list all the available cmdlets for the KubeCtl module, a PowerShell user may try: **Get-Command -Module Microsoft.PowerShell.KubeCtl**"
            ],
            "metadata": {
                "azdata_cell_guid": "e2380e91-3c6a-45e5-9085-6d5ba98afffd"
            }
        },
        {
            "cell_type": "code",
            "source": [
                "Get-Command -Module Microsoft.PowerShell.KubeCtl"
            ],
            "metadata": {
                "azdata_cell_guid": "69ccb642-1d91-4266-ba61-5129694ebb7d"
            },
            "outputs": [],
            "execution_count": null
        },
        {
            "cell_type": "markdown",
            "source": [
                "Sinilarly, A PowerShell user attemping to discover cmdlets for retreiving information from Kubernetes might try:\n",
                "\n",
                "```powershell\n",
                "Get-Kube<tab>\n",
                "```\n",
                "\n",
                "**Note** - The tab key triggers PowerShell's TabExpansion.  This will provide all the Get cmdlets and thier respective nouns."
            ],
            "metadata": {
                "azdata_cell_guid": "f5e71b4d-114f-465a-8402-aaecdce911d6"
            }
        },
        {
            "cell_type": "markdown",
            "source": [
                "### PowerShell users expect to use what they know - PowerShell"
            ],
            "metadata": {
                "azdata_cell_guid": "bf29bdd8-05d6-4c58-95f2-526682945881"
            }
        },
        {
            "cell_type": "markdown",
            "source": [
                "KubeCtl can display a list of pods\n",
                "\n",
                "```powershell\n",
                "kubectl get pods\n",
                "```\n",
                ""
            ],
            "metadata": {
                "azdata_cell_guid": "99ab2748-326e-474b-889b-46559b132496"
            }
        },
        {
            "cell_type": "code",
            "source": [
                "kubectl get pods"
            ],
            "metadata": {
                "azdata_cell_guid": "95a3882d-319d-4a33-bbad-ccc5e9b267a3"
            },
            "outputs": [],
            "execution_count": null
        },
        {
            "cell_type": "markdown",
            "source": [
                "Note - nothing is listed in my example because I haven't created any pods - but there are pods that exist, you just don;t know about them unless you know how to use the commmmand.\n",
                "\n",
                "```powershell\n",
                "kubectl get pods --all-namespaces\n",
                "```"
            ],
            "metadata": {
                "azdata_cell_guid": "1a6254ec-81dd-44e1-a68f-ed84c1080cb3"
            }
        },
        {
            "cell_type": "code",
            "source": [
                "kubectl get pods --all-namespaces"
            ],
            "metadata": {
                "azdata_cell_guid": "6dbef70b-cff7-4d0d-8fd3-a406d1f6bc27"
            },
            "outputs": [],
            "execution_count": null
        },
        {
            "cell_type": "markdown",
            "source": [
                "PoewrShell users expect Get cmdlets to return all results unless filtered. A PowerShell user might try **Get-KubePod**\n",
                ""
            ],
            "metadata": {
                "azdata_cell_guid": "7a0c14a0-def8-42e1-8240-9e4d8ecfe24b"
            }
        },
        {
            "cell_type": "code",
            "source": [
                "Get-KubePod"
            ],
            "metadata": {
                "azdata_cell_guid": "d4ba0650-5470-446f-a6a1-6c3bb9536914"
            },
            "outputs": [],
            "execution_count": null
        },
        {
            "cell_type": "markdown",
            "source": [
                "KubeCtl can list pods by namespace: **kubectl get pods -n kube-system**"
            ],
            "metadata": {
                "azdata_cell_guid": "3eaf53a8-e586-477e-aa73-b95da3008000"
            }
        },
        {
            "cell_type": "code",
            "source": [
                "kubectl get pods -n kube-system"
            ],
            "metadata": {
                "azdata_cell_guid": "0fe55016-e6e4-41ab-83b2-04a20f1df63b"
            },
            "outputs": [],
            "execution_count": null
        },
        {
            "cell_type": "markdown",
            "source": [
                "PowerShell users should be able to filter results using the common PowerSehll practices they already know. In this case, If I wanted only the kube-system pods, I could filter the results using a **Where-Object**."
            ],
            "metadata": {
                "azdata_cell_guid": "aa673a78-5742-474d-b0f8-b7789e17de05"
            }
        },
        {
            "cell_type": "code",
            "source": [
                "get-kubepod | where namespace -eq 'kube-system'"
            ],
            "metadata": {
                "azdata_cell_guid": "b7ac8cc8-4825-4f7d-8e93-088e072ac862"
            },
            "outputs": [],
            "execution_count": null
        },
        {
            "cell_type": "markdown",
            "source": [
                "PoweShell continues to help me get the information I need, even if I don;t fully understand the native the command or the underlying technology. Here, I was trying to get a list of pods sorted by restart counts. After seraching the web, I started to try this:\n",
                "\n",
                "```powershell\n",
                "kubectl get pods --all-namespaces --sort-by=.status.containerStatuses[0].restartcount\n",
                "```\n",
                "I didn't understand the command and wasn't getting the results I desired, so I switch to the trusted PowerShell knowledge I already know.\n",
                "```powershell\n",
                "Get-KubePod | Get-Member\n",
                "# This lists the properties of the Pod object - yup - everything is an object!\n",
                "# I noticed the object Restarts - the rest was easy\n",
                "Get-KubePod | Sort-Object -Property Restarts\n",
                "# I wanted the restarts to be displayed at the top of the list, so I changed the sort\n",
                "Get-KubePod | Sort-Object -Property Restarts -Descending\n",
                "```\n",
                "\n",
                ""
            ],
            "metadata": {
                "azdata_cell_guid": "c8a94419-395c-4b86-96ba-5dd801ca7fcd"
            }
        },
        {
            "cell_type": "code",
            "source": [
                "Get-KubePod | Sort-Object -Property Restarts -Descending"
            ],
            "metadata": {
                "azdata_cell_guid": "12fabaa1-6dc5-43aa-b98d-a525fe4cb6f5"
            },
            "outputs": [],
            "execution_count": null
        },
        {
            "cell_type": "markdown",
            "source": [
                "**The point - Native commands, like KubeCtl, are gaining in popularity and complexity making it more challenging to learn and adopt important technologies. By bringing these native commands into the PowerShell Ecosystem, PowerShell users can take the knowledge they already have and imediatly start to be successfull and moving the business forward.** "
            ],
            "metadata": {
                "azdata_cell_guid": "c91e7589-afa3-4879-8ded-78d51aae4c87"
            }
        },
        {
            "cell_type": "markdown",
            "source": [
                "## PART 2"
            ],
            "metadata": {
                "azdata_cell_guid": "813b1820-e735-4e92-ac55-e4b3f15cb50a"
            }
        },
        {
            "cell_type": "markdown",
            "source": [
                "_________________"
            ],
            "metadata": {
                "azdata_cell_guid": "07912454-9069-469c-8ed2-64f800f5801f"
            }
        },
        {
            "cell_type": "markdown",
            "source": [
                "## Problems of functionality coverage when using PowerShell\n",
                "\n",
                "\n",
                "### Solution Options\n",
                "\n",
                " To achieve coverage for tools that participate fully in the PowerShell ecosystem, only a few options exist:\n",
                "\n",
                " - You can re-implement the tool in managed code or script\n",
                " - You can call web based apis. SWAGGER provides a very easy way to do this\n",
                "   - <https://github.com/Azure/autorest> is one example\n",
                " - You can wrap the native application in a powershell script\n",
                "\n",
                " ### Reimplementation\n",
                "\n",
                " There a many benefits in a complete rewrite of a command:\n",
                "\n",
                " - The expression of behavior can be made more \"native\" to the new environment\n",
                " - Performance issues can be addressed\n",
                " - New code means that new technologies can be used advantageously\n",
                "\n",
                " #### Issues with Reimplementations\n",
                "\n",
                " The biggest issue with reimplementation is probably the amount of work that is needed to achieve behavior expressed in the original.\n",
                " This is especially the case if the reimplementor is not intimately familiar with the workings of the tool.\n",
                " Another issue with reimplementation is that you need to continue to track changes in the original code.\n",
                " This can be a challenge as depending on the activity and updates in the tool, wholescale changes can occur that then need to be reimplemented,\n",
                " or the reimplementation will be out of date.\n",
                " Worse, if the the command is the client side of a client/server app, changes in the server may negatively effect the reimplementation.\n",
                "\n",
                " ### API wrapping\n",
                "\n",
                " Many native apps use a REST endpoint to retrieve data.\n",
                " These can be used to interact with the data end point, retrieve data from it and then present it to the user.\n",
                " For example, the following shows how you could present the data about kubernetes pods by interacting with the REST end point and display the data.\n",
                " In comparison is the output from the native command.\n",
                "\n",
                " ```powershell\n",
                " kubectl get pods; get-pods.ps1|ft\n",
                "\n",
                " NAME                     READY   STATUS      RESTARTS   AGE\n",
                " hello-1589924940-rv2v2   0/1     Completed   0          3m5s\n",
                " hello-1589925000-gs5n7   0/1     Completed   0          2m5s\n",
                " hello-1589925060-j4bjc   0/1     Completed   0          65s\n",
                " hello-1589925120-jvxtd   0/1     Completed   0          4s\n",
                "\n",
                " Name                   Ready Status    Restarts Age\n",
                " ----                   ----- ------    -------- ---\n",
                " hello-1589925000-gs5n7 0/1   Completed        0 00:02:05.2602110\n",
                " hello-1589925060-j4bjc 0/1   Completed        0 00:01:05.2607090\n",
                " hello-1589925120-jvxtd 0/1   Completed        0 00:00:04.2612030\n",
                " ```\n",
                "\n",
                " #### Issues with API wrapping\n",
                "\n",
                " The most impactful issues with this approach are about authentication and complexity.\n",
                " Also, simple API wrapping generally results in a command that is _developer_ rather than _administrator_ focused.\n",
                " There is quite a bit of logic wrapped up in a command to avoid just calling the API.\n",
                " The script that produced the output can be used to illustrate some of the problems with this approach\n",
                "\n",
                " ```powershell\n",
                "\n",
                " # retrieve data from REST endpoint\n",
                " $baseUrl = \"http://127.0.0.1:8001\"\n",
                " $urlPathBase = \"api/v1/namespaces/default\"\n",
                " $urlResourceName = \"pods\"\n",
                " $url = \"${baseUrl}/${urlPathBase}/${urlResourceName}\"\n",
                " $data = (invoke-webrequest ${url}).Content | ConvertFrom-Json\n",
                "\n",
                " # manipulate data for output\n",
                " foreach ( $item in $data.Items ) {\n",
                "     $replicaCount = $item.status.containerstatuses.count\n",
                "     $replicaReadyCount = ($item.status.conditions | Where-Object {$_.Ready -eq \"True\"}).Count\n",
                "     $Age = [datetime]::now.touniversaltime() - ([datetime]$item.status.conditions.lastTransitionTime[-1])\n",
                "     [pscustomobject]@{\n",
                "         Name     = $item.metadata.name\n",
                "         Ready    = \"{0}/{1}\" -f $replicaReadyCount, $replicaCount\n",
                "         Status   = @($item.status.containerstatuses.state.terminated.reason)[-1]\n",
                "         Restarts = $item.status.containerstatuses.restartcount\n",
                "         Age      = $age\n",
                "         }\n",
                " }\n",
                " ```\n",
                "\n",
                " In the above example, the work of the script is broken into 2 sections.\n",
                "\n",
                " - a section that gets the data from the REST endpoint\n",
                " - a section that converts the json data into an object that has the specific properties I want to see\n",
                "\n",
                " There are a few shortcuts in the first section:\n",
                "\n",
                " - I'm not providing a parameter to retrieve different resources\n",
                " - I'm not using any authentication\n",
                " - I'm using what I already know with regard to the actual `url` to retrieve data\n",
                "\n",
                " The second section that alters the data to a form I need by converting the json to a view I'm more comfortable with.\n",
                " With regard to the output, I made a decision to handle the presentation of elapsed time in a way that most cmdlets do.\n",
                "\n",
                " This approach casts the problem in the light of the developer again.\n",
                " Much like re-implementation, there is a certain amount of code that is required just to _get_ the data,\n",
                " and with this example I'm showing the absolute simplest case since I'm not doing any authentication and I \\_know what the endpoint to which I'm connecting.\n",
                " The part that is familiar is the second part of the script that creates an object that I can use with our other filters.\n",
                " This can be done in many different ways, I could have written this code using `Select-Object` as follows:\n",
                "\n",
                " ```powershell\n",
                " $data.Items | Select-Object -Property @{ N = \"Name\"; E = {$_.metadata.Name}},\n",
                "      @{ N = \"Ready\"; E = { \"{0}/{1}\" -f ($_.item.status.conditions|Where-Object {$_.Ready -eq \"True\"}).Count, $_.status.containerstatuses.count}},\n",
                "      @{ N = \"Status\"; E = { @($_.status.containerstatuses.state.terminated.reason)[-1]}},\n",
                "      @{ N = \"Restarts\"; E = { $_.status.containerstatuses.restartcount}},\n",
                "      @{ N = \"Age\"; E = { [DateTime]::now.touniversaltime() - [datetime]($_.status.conditions.lastTransitionTime[-1])}}\n",
                " ```\n",
                "\n",
                " Regardless of how it's written, I believe that the second section is well understood by most PowerShell scripters,\n",
                " but the first section is less known and needs knowledge about the service and how to authenticate.\n",
                "\n",
                " _However_, I think the biggest issue with this approach is that for anything complicated (or anything more complicated than simple \"gets\") is that the REST APIs are developer constructs _made for developers_.\n",
                " This means that if you want to use these REST APIs, you need to put on a developer hat and produce a solution that has a different set of problems.\n",
                " This is what the developer did initially; He took the available APIs (REST or otherwise) and built up the administrative experience in the application,\n",
                " sheltering the admin from the programming problems.\n",
                " In the kubernetes example above, if I needed to query the REST endpoint to see what types of resources were available, that means more calls back and forth from the service.\n",
                "\n",
                " _Jason - I don't have anything here_\n",
                " TODO - I use to have (at the tip of my tongue) an example of swagger cmdlets that showed the developers view -- this came up years ago for a while.... If you happen to know of a today example -- maybe it would be great to reference -- but i will see if I can find soemthing as well.\n",
                "\n",
                " ### Native Application Wrapping\n",
                "\n",
                " Because it is possible to call native applications easily from within PowerShell it is possible to write a script that provides a more PowerShell-like experience.\n",
                " It can provide parameter handling such as prompting for mandatory parameters and tab-completion for parameter values.\n",
                " It can take the application output and use the text output into objects so it can take advantage of all the post processing tools such as `Sort-Object`, `Where-Object`, etc.\n",
                "\n",
                " if we look at the above example, the script can be greatly simplified and written as follows\n",
                "\n",
                " ```powershell\n",
                " $data = kubectl get pods -o json | ConvertFrom-Json\n",
                " $data.Items | Select-Object -Property @{ N = \"Name\"; E = {$_.metadata.Name}},\n",
                "      @{ N = \"Ready\";    E = { \"{0}/{1}\" -f ($_.item.status.conditions|Where-Object {$_.Ready -eq \"True\"}).Count, $_.status.containerstatuses.count}},\n",
                "      @{ N = \"Status\";   E = { @($_.status.containerstatuses.state.terminated.reason)[-1]}},\n",
                "      @{ N = \"Restarts\"; E = { $_.status.containerstatuses.restartcount}},\n",
                "      @{ N = \"Age\";      E = { [DateTime]::now.touniversaltime() - [datetime]($_.status.conditions.lastTransitionTime[-1])}}\n",
                " ```\n",
                "\n",
                " When applicatons have a choice of output types, it is easy to use PowerShell tools to convert (in this case) json to an object,\n",
                " and then we have the same code for presenting the data the way we want it.\n",
                "\n",
                " This approach has some advantages:\n",
                "\n",
                " - We avoid the entire problem of how to authenticate to access the data\n",
                "   - We are protected from changes in the service and API endpoint\n",
                " - Small changes in the tool can be easily managed by simple changes to the script\n",
                " - If the application is supports uniform cross-platform execution, the wrapper can be easy run on whatever platform is needed\n",
                "\n",
                " _Jason - not sure what more I should add here_\n",
                " TODO: Jim, in the above list, would it be also good to mention somethig like : It can update itself when the originating native command updates.\n",
                "\n",
                " One of my first experiences with this was a very simple processes of getting information about pdf files with the tool `pdfinfo.exe`.\n",
                " I needed to retrieve information from a very large set of set of PDF files (1000s).\n",
                " I wrapped both the parameters and the output to have it behave much like a regular cmdlet.\n",
                " Of course, I could have just used the native app, but I wanted a command I could pipe files to it and filter the results:\n",
                "\n",
                " ```powershell\n",
                " $a = get-childitem -rec -filt *.pdf | Get-PdfInfo | Where-Object { $_.subject -like \"sibelius\" }\n",
                " $sa | ft file,title,subject,pagesize\n",
                "\n",
                " File           Title                        Subject            Pagesize\n",
                " ----           -----                        -------            --------\n",
                " SIB08.pdf      Sibelius - Finlandia, Op. 26 Trumpet            720x936 pts\n",
                " SIB08.pdf      Sibelius - Finlandia, Op. 26 Viola              720x936 pts\n",
                " ...\n",
                " SIB08.pdf      Sibelius - Finlandia, Op. 26 Cello              720x936 pts\n",
                " SIB08.pdf      Sibelius - Finlandia, Op. 26 Bassoon            720x936 pts\n",
                " ```\n",
                "\n",
                " The point of all this was that I wanted a native PowerShell experience rather than the experience provided by the standalone application.\n",
                "\n",
                " #### Issues with application wrapping\n",
                "\n",
                " The issues are roughly the same as above, there is a certain amount of programming that is needed to call the application.\n",
                " There is some programming needed to convert the text output to objects so they can participate in the PowerShell pipelines.\n",
                " A significant difference is that unlike the REST approach, I don't have extra work determining _how_ to invoke the app, I can just invoke it.\n",
                " Further, it seems a more natural use of the tool; I'm familiar with the workings of the tool, I'm just parsing the output into objects.\n",
                " It's important to note that if the tool emits `json`, `xml`, or other structured data, a lot less effort would be needed to create the objects that I want.\n",
                "\n",
                " ## Is there a better way\n",
                "\n",
                " It may be possible to create a framework that inspects the help of the application and _automatically_ create the code that calls the underlying application.\n",
                " This framework can also handle the output mapping to an object more suitable for the PowerShell environment.\n",
                "\n",
                " ## Possibilities in wrapping\n",
                "\n",
                " The aspect that makes this possible is that some commands have regular, consistent help that describes how the application can be used.\n",
                " If this is the case, then we can iteratively call the help, parse it,\n",
                " and automatically construct much of the infrastructure needed to allow these native applications to be encorporated into the PowerShell environment.\n",
                "\n",
                " ### First Experiment - Microsoft.PowerShell.Kubectl Module\n",
                "\n",
                " I created a wrapper for to take the output of `kubectl api-resources` and create functions for each returned resource.\n",
                " This way, instead of running `kubectl get pod`, I could run `Get-KubectlPod` (a much more _PowerShell_ like experience).\n",
                " I also wanted to have the function return objects that I could then use the other PowerShell tools (where-object, foreach-object, etc).\n",
                " To do this, I needed a way to map the output (json) from the `kubectl` tool to PowerShell objects.\n",
                " I decided that a reasonable approach for this was to use a more declarative to map the property in the json to a PowerShell class member.\n",
                "\n",
                " There were some problems that I wanted to solve with this first experiment\n",
                "\n",
                " - wrap `kubectl api-resources` in a function\n",
                "   - automatically create object output from `kubectl api-resources`\n",
                " - Auto-generate functions for each resource that could be retrieved (only resource get for now)\n",
                "   - only support `name` as a parameter\n",
                " - Auto-generate the conversion of output to objects to look similar to the usual `kubectl` output\n",
                "\n",
                " When it came to wrapping `kubectl api-resources` I took the static approach rather than auto generation.\n",
                " First, because it was my first attempt so I was still finding my feet.\n",
                " Second, because this is one of the `kubectl` commands that does not emit JSON,\n",
                " so I took the path of parsing the output of `kubectl api-resources -o wide`.\n",
                " My concern is that I wasn't sure whether the table changes width based on the screen width.\n",
                " I calculated column positions based on the fields I knew to be present and then sent the line with the offsets off to be parsed.\n",
                " You can see the code in the function `get-kuberesource` and the constructor for the PowerShell class `KubeResource`.\n",
                " My plan was that these resources would drive the auto-generation of the Kubernetes resource functions.\n",
                "\n",
                " Now that I have the resources retrieved, I can auto-generate specific resource function for calling the `kubectl get <resource>`.\n",
                " At the time, I wanted some flexibility in the creation of these proxy functions,\n",
                " so I provided a way to include a specific implementation, if desired (see the `$proxyFunctions` hashtable).\n",
                " I'm not sure that's needed now, but we'll get to that later.\n",
                " The problem is that while the resource data can be returned as json, that json has absolutely no relation to the way the\n",
                " data is represented in the `kubectl get pod` table.\n",
                " I want to return the data as objects, I created classes for a couple resources by hand, but thought there might be a better way.\n",
                "\n",
                " I determined that when you get data from kubernetes, the table (both normal and wide) output _is created on the server_.\n",
                " This means the mapping of the properties of the json object to the table columns is defined in the server code.\n",
                " It is possible to provide data as custom columns, but you need to provide the value for the column with a json path expression,\n",
                " so it's not possible to automatically generate those tables.\n",
                " I thought it might be possible to provide a configuration file that could be read to automatically generate a PowerShell class\n",
                " that would include the name of the column and the expression to get the value for the object.\n",
                " This would allow a user to retrieve the json object and construct their custom object without touching the programming logic\n",
                " of the module but a configuration file.\n",
                " I created the `ResourceConfiguration.json` file to encapsulate all the resources that I had access to and provide a way where\n",
                " the object members can be customized where desired.\n",
                "\n",
                " here's an example:\n",
                "\n",
                " ```json\n",
                "   {\n",
                "     \"TypeName\": \"namespaces\",\n",
                "     \"Fields\": [\n",
                "       {\n",
                "         \"PropertyName\": \"NAME\",\n",
                "         \"PropertyReference\": \"$o.metadata.NAME\"\n",
                "       },\n",
                "       {\n",
                "         \"PropertyName\": \"STATUS\",\n",
                "         \"PropertyReference\": \"$o.status.phase\"\n",
                "       },\n",
                "       {\n",
                "         \"PropertyName\": \"AGE\",\n",
                "         \"PropertyReference\": \"$o.metadata.creationTimeStamp\"\n",
                "       }\n",
                "     ]\n",
                "   },\n",
                " ```\n",
                "\n",
                " This json is converted into a PowerShell class whose constructor takes the json object and assigns the values to the members,\n",
                " according to the `PropertyReference`.\n",
                " The module automatically attaches the original json to a hidden member `originalObject` so if you want to inspect\n",
                " all the data that's available, you can.\n",
                " The module also automatically generates a proxy function so you can get the data:\n",
                "\n",
                " ```powershell\n",
                " function Get-KubeNamespace\n",
                " {\n",
                "   [CmdletBinding()]\n",
                "   param ()\n",
                "   (Invoke-KubeCtl -Verb get -resource namespaces).Foreach({[namespaces]::new($_)})\n",
                " }\n",
                " ```\n",
                "\n",
                " This function is then exported so it's available in the module.\n",
                " When used, it behaves very close to the original:\n",
                "\n",
                " ```powershell\n",
                " PS> Get-KubeNamespace\n",
                "\n",
                " Name                 Status Age\n",
                " ----                 ------ ---\n",
                " default              Active 5/6/2020 6:13:07 PM\n",
                " default-mem-example  Active 5/14/2020 8:14:45 PM\n",
                " docker               Active 5/6/2020 6:14:25 PM\n",
                " kube-node-lease      Active 5/6/2020 6:13:05 PM\n",
                " kube-public          Active 5/6/2020 6:13:05 PM\n",
                " kube-system          Active 5/6/2020 6:13:05 PM\n",
                " kubernetes-dashboard Active 5/18/2020 8:44:01 PM\n",
                " openfaas             Active 5/6/2020 6:51:22 PM\n",
                " openfaas-fn          Active 5/6/2020 6:51:22 PM\n",
                "\n",
                " PS> kubectl get namespaces --all-namespaces\n",
                "\n",
                " NAME                   STATUS   AGE\n",
                " default                Active   26d\n",
                " default-mem-example    Active   18d\n",
                " docker                 Active   26d\n",
                " kube-node-lease        Active   26d\n",
                " kube-public            Active   26d\n",
                " kube-system            Active   26d\n",
                " kubernetes-dashboard   Active   14d\n",
                " openfaas               Active   26d\n",
                " openfaas-fn            Active   26d\n",
                " ```\n",
                "\n",
                " but importantly, I can use the output with `where-object` and `foreach-object` or change the format to list, etc.\n",
                "\n",
                " ```powershell\n",
                " PS> Get-KubeNamespace |? name -match \"faas\"\n",
                "\n",
                " Name        Status Age\n",
                " ----        ------ ---\n",
                " openfaas    Active 5/6/2020 6:51:22 PM\n",
                " openfaas-fn Active 5/6/2020 6:51:22 PM\n",
                " ```\n",
                "\n",
                " ### Second Experiment - Module KubectlHelpParser\n",
                "\n",
                " I wanted to see if I could read any help content from `kubectl` that would enable me to auto-generate a complete\n",
                " proxy to the `kubectl` command that included general parameters, command specific parameters, and help.\n",
                " It turns out that `kubectl` help is regular enough where this is quite possible.\n",
                "\n",
                " When retrieving help, kubectl may provide subcommands that also has structured help.\n",
                " I created a recursive parser that allowed me to retrieve all of the help for all of the available kubectl commands.\n",
                " This means that if an additional command is provided in the future, and the help for that command follows the\n",
                " existing pattern for help, this parser will be able to generate a command for it.\n",
                "\n",
                " ```powershell\n",
                " PS> kubectl --help\n",
                " kubectl controls the Kubernetes cluster manager.\n",
                "\n",
                "  Find more information at: https://kubernetes.io/docs/reference/kubectl/overview/\n",
                "\n",
                " Basic Commands (Beginner):\n",
                "   create         Create a resource from a file or from stdin.\n",
                "   expose         Take a replication controller, service, deployment or pod and expose it as a new Kubernetes Service\n",
                "   run            Run a particular image on the cluster\n",
                "   set            Set specific features on objects\n",
                "\n",
                " Basic Commands (Intermediate):\n",
                "   explain        Documentation of resources\n",
                "   get            Display one or many resources\n",
                " . . .\n",
                "\n",
                " kubectl set --help\n",
                "\n",
                " PS> kubectl set --help\n",
                "\n",
                " Configure application resources\n",
                "\n",
                "  These commands help you make changes to existing application resources.\n",
                "\n",
                " Available Commands:\n",
                "   env            Update environment variables on a pod template\n",
                "   . . .\n",
                "   subject        Update User, Group or ServiceAccount in a RoleBinding/ClusterRoleBinding\n",
                "\n",
                " Usage:\n",
                "   kubectl set SUBCOMMAND [options]\n",
                "\n",
                " PS> kubectl set env --help\n",
                "\n",
                " Update environment variables on a pod template.\n",
                "\n",
                "  List environment variable definitions in one or more pods, pod templates. Add, update, or remove container environment\n",
                " variable definitions in one or more pod templates (within replication controllers or deployment configurations). View or\n",
                " modify the environment variable definitions on all containers in the specified pods or pod templates, or just those that\n",
                " match a wildcard.\n",
                "\n",
                "  If \"--env -\" is passed, environment variables can be read from STDIN using the standard env syntax.\n",
                "\n",
                "  Possible resources include (case insensitive):\n",
                "\n",
                "   pod (po), replicationcontroller (rc), deployment (deploy), daemonset (ds), job, replicaset (rs)\n",
                "\n",
                " Examples:\n",
                "   # Update deployment 'registry' with a new environment variable\n",
                "   kubectl set env deployment/registry STORAGE_DIR=/local\n",
                "   . . .\n",
                "   # Set some of the local shell environment into a deployment config on the server\n",
                "   env | grep RAILS_ | kubectl set env -e - deployment/registry\n",
                "\n",
                " Options:\n",
                "       --all=false: If true, select all resources in the namespace of the specified resource types\n",
                "       --allow-missing-template-keys=true: If true, ignore any errors in templates when a field or map key is missing in\n",
                " the template. Only applies to golang and jsonpath output formats.\n",
                "   . . .\n",
                "       --template='': Template string or path to template file to use when -o=go-template, -o=go-template-file. The\n",
                " template format is golang templates [http://golang.org/pkg/text/template/#pkg-overview].\n",
                "\n",
                " Usage:\n",
                "   kubectl set env RESOURCE/NAME KEY_1=VAL_1 ... KEY_N=VAL_N [options]\n",
                "\n",
                " Use \"kubectl options\" for a list of global command-line options (applies to all commands).\n",
                " ```\n",
                "\n",
                " The main function of the module will recursively collect the help for all of the commands, and construct an\n",
                " object representation that I hope can then be used to generate the proxy functions.\n",
                " This is still very much a work in progress, but it is definitely showing promise.\n",
                " Here's an example of what it can already do.\n",
                "\n",
                " ```powershell\n",
                " PS> import-module ./khp2.psm1\n",
                "  PS> import-module ./KHP2.psm1 -force\n",
                "\n",
                " [Modules-1|kubectl↑0↓0•0+2?5] PS> $res = get-kubecommands\n",
                "\n",
                " VERBOSE: kubectl --help\n",
                " VERBOSE: kubectl  create --help\n",
                " . . .\n",
                " VERBOSE: kubectl  set --help\n",
                " VERBOSE: kubectl  set env --help\n",
                " VERBOSE: kubectl  set image --help\n",
                " VERBOSE: kubectl  set resources --help\n",
                " VERBOSE: kubectl  set selector --help\n",
                " . . .\n",
                " VERBOSE: kubectl  plugin --help\n",
                " VERBOSE: kubectl  plugin list --help\n",
                " VERBOSE: kubectl  version --help\n",
                "\n",
                " PS> $res.subcommands[3].subcommands[0]\n",
                "\n",
                " Command             : set env\n",
                " CommandElements     : {, set, env}\n",
                " Description         : Update environment variables on a pod template.\n",
                "\n",
                "                        List environment variable definitions in one or more pods, pod templates. Add, update, or remove container environment variable definitions in one or more pod templates (within replication controllers or deployment configurations). View or modify the environment variable definitions\n",
                "                       on all containers in the specified pods or pod templates, or just those that match a wildcard.\n",
                "\n",
                "                        If \"--env -\" is passed, environment variables can be read from STDIN using the standard env syntax.\n",
                "\n",
                "                        Possible resources include (case insensitive):\n",
                "\n",
                "                         pod (po), replicationcontroller (rc), deployment (deploy), daemonset (ds), job, replicaset (rs)\n",
                " Usage               : kubectl set env RESOURCE/NAME KEY_1=VAL_1 ... KEY_N=VAL_N [options]\n",
                " SubCommands         : {}\n",
                " Parameters          : {[Parameter(Mandatory=$False)][switch]${All}, [Parameter(Mandatory=$False)][switch]${NoAllowMissingTemplateKeys}, [Parameter(Mandatory=$False)][System.String]${Containers} = \"*\", [Parameter(Mandatory=$False)][switch]${WhatIf}…}\n",
                " MandatoryParameters : {}\n",
                " Examples            : {kubectl set env deployment/registry STORAGE_DIR=/local, kubectl set env deployment/sample-build --list, kubectl set env pods --all --list, kubectl set env deployment/sample-build STORAGE_DIR=/data -o yaml…}\n",
                "\n",
                " PS> $res.subcommands[3].subcommands[0].usage\n",
                " Usage                                                               supportsFlags hasOptions\n",
                " -----                                                               ------------- ----------\n",
                " kubectl set env RESOURCE/NAME KEY_1=VAL_1 ... KEY_N=VAL_N [options]         False       True\n",
                "\n",
                " PS> $res.subcommands[3].subcommands[0].examples\n",
                " Description                                                   Command\n",
                " -----------                                                   -------\n",
                " Update deployment 'registry' with a new environment variable  kubectl set env deployment/registry STORAGE_DIR=/local\n",
                " . . .\n",
                "\n",
                " PS> $res.subcommands[3].subcommands[0].parameters.Foreach({$_.tostring()})\n",
                "\n",
                " [Parameter(Mandatory=$False)][switch]${All}\n",
                " [Parameter(Mandatory=$False)][switch]${NoAllowMissingTemplateKeys}\n",
                " [Parameter(Mandatory=$False)][System.String]${Containers} = \"*\"\n",
                " [Parameter(Mandatory=$False)][switch]${WhatIf}\n",
                " . . .\n",
                " [Parameter(Mandatory=$False)][System.String]${Selector}\n",
                " [Parameter(Mandatory=$False)][System.String]${Template}\n",
                "\n",
                " ```\n",
                "\n",
                " There are still a lot of open questions and details to work out here:\n",
                "\n",
                " - how are mandatory parameters determined?\n",
                " - how do we keep a map of used parameters?\n",
                " - does parameter order matter?\n",
                " - can resonable debugging be provided?\n",
                " - do we have to \"boil the ocean\" to provide something useful?\n",
                "\n",
                " ## Call To Action\n",
                "\n",
                " First, I'm really interested if having a framework that can autogenerate functions that wrap a native executable is useful?\n",
                " The obvious response might be \"of course\", but how much of a solution is really needed to provide value?\n",
                "\n",
                " **Jason** can you think of additional things here in the call to action?\n",
                "\n",
                " ## Is this framework something you will continue to build commands with\n",
                "\n",
                " Jim, just adding some thought notes. Always available to discuss with you and help out.\n",
                "\n",
                " Our focus is on providing the community with an extensable framework to build powershell-style cmdlets from common commands. While we may supply some commands (kubectl, docker), our hope is that the community will adopt the framework and build commands as needed.\n",
                "\n",
                " - Is an extensible framework for building commands needed? Why?\n",
                " - If so, what commands should be considered in the near term? Why those commands? How often do you use/script them?\n",
                " ProTip! Use n and p to navigate between commits in a pull request.\n",
                "© 2020 GitHub, Inc.\n",
                "Terms\n",
                "Privacy\n",
                "Security\n",
                "Status\n",
                "Help\n",
                "Contact GitHub\n",
                "Pricing\n",
                "API\n",
                "Training\n",
                "Blog\n",
                "About\n",
                ""
            ],
            "metadata": {
                "azdata_cell_guid": "93045b00-ece8-4bbf-b08f-d1f32575c73d"
            }
        }
    ]
}